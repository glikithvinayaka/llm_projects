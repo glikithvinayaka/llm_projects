{
  "nbformat": 4,
  "nbformat_minor": 0,
  "metadata": {
    "colab": {
      "provenance": [],
      "machine_shape": "hm",
      "gpuType": "T4"
    },
    "kernelspec": {
      "name": "python3",
      "display_name": "Python 3"
    },
    "language_info": {
      "name": "python"
    },
    "accelerator": "GPU",
    "widgets": {
      "application/vnd.jupyter.widget-state+json": {
        "23839568f59d45c8bc195af852217505": {
          "model_module": "@jupyter-widgets/controls",
          "model_name": "HBoxModel",
          "model_module_version": "1.5.0",
          "state": {
            "_dom_classes": [],
            "_model_module": "@jupyter-widgets/controls",
            "_model_module_version": "1.5.0",
            "_model_name": "HBoxModel",
            "_view_count": null,
            "_view_module": "@jupyter-widgets/controls",
            "_view_module_version": "1.5.0",
            "_view_name": "HBoxView",
            "box_style": "",
            "children": [
              "IPY_MODEL_4f86ee5135de4c2baf9da9d09c2191f8",
              "IPY_MODEL_2aeab88f069a414bb332c3d9f9167429",
              "IPY_MODEL_187c305bb9474824a9e96c4674f389fc"
            ],
            "layout": "IPY_MODEL_91cab63f0861414988aa9c33391c9e12"
          }
        },
        "4f86ee5135de4c2baf9da9d09c2191f8": {
          "model_module": "@jupyter-widgets/controls",
          "model_name": "HTMLModel",
          "model_module_version": "1.5.0",
          "state": {
            "_dom_classes": [],
            "_model_module": "@jupyter-widgets/controls",
            "_model_module_version": "1.5.0",
            "_model_name": "HTMLModel",
            "_view_count": null,
            "_view_module": "@jupyter-widgets/controls",
            "_view_module_version": "1.5.0",
            "_view_name": "HTMLView",
            "description": "",
            "description_tooltip": null,
            "layout": "IPY_MODEL_75be6941e9a844b8afe4e48d80683033",
            "placeholder": "​",
            "style": "IPY_MODEL_8c9b6492cf1a461e8c1beae864a14161",
            "value": "Downloading builder script: 100%"
          }
        },
        "2aeab88f069a414bb332c3d9f9167429": {
          "model_module": "@jupyter-widgets/controls",
          "model_name": "FloatProgressModel",
          "model_module_version": "1.5.0",
          "state": {
            "_dom_classes": [],
            "_model_module": "@jupyter-widgets/controls",
            "_model_module_version": "1.5.0",
            "_model_name": "FloatProgressModel",
            "_view_count": null,
            "_view_module": "@jupyter-widgets/controls",
            "_view_module_version": "1.5.0",
            "_view_name": "ProgressView",
            "bar_style": "success",
            "description": "",
            "description_tooltip": null,
            "layout": "IPY_MODEL_557409c072934a88b81d255c04636bb5",
            "max": 4203,
            "min": 0,
            "orientation": "horizontal",
            "style": "IPY_MODEL_8cb57acf9485436f911b6bb6e179cf2f",
            "value": 4203
          }
        },
        "187c305bb9474824a9e96c4674f389fc": {
          "model_module": "@jupyter-widgets/controls",
          "model_name": "HTMLModel",
          "model_module_version": "1.5.0",
          "state": {
            "_dom_classes": [],
            "_model_module": "@jupyter-widgets/controls",
            "_model_module_version": "1.5.0",
            "_model_name": "HTMLModel",
            "_view_count": null,
            "_view_module": "@jupyter-widgets/controls",
            "_view_module_version": "1.5.0",
            "_view_name": "HTMLView",
            "description": "",
            "description_tooltip": null,
            "layout": "IPY_MODEL_42d8814e993043df95efdd746453733a",
            "placeholder": "​",
            "style": "IPY_MODEL_5ebbb87570b5425288d711b8c39a3b60",
            "value": " 4.20k/4.20k [00:00&lt;00:00, 346kB/s]"
          }
        },
        "91cab63f0861414988aa9c33391c9e12": {
          "model_module": "@jupyter-widgets/base",
          "model_name": "LayoutModel",
          "model_module_version": "1.2.0",
          "state": {
            "_model_module": "@jupyter-widgets/base",
            "_model_module_version": "1.2.0",
            "_model_name": "LayoutModel",
            "_view_count": null,
            "_view_module": "@jupyter-widgets/base",
            "_view_module_version": "1.2.0",
            "_view_name": "LayoutView",
            "align_content": null,
            "align_items": null,
            "align_self": null,
            "border": null,
            "bottom": null,
            "display": null,
            "flex": null,
            "flex_flow": null,
            "grid_area": null,
            "grid_auto_columns": null,
            "grid_auto_flow": null,
            "grid_auto_rows": null,
            "grid_column": null,
            "grid_gap": null,
            "grid_row": null,
            "grid_template_areas": null,
            "grid_template_columns": null,
            "grid_template_rows": null,
            "height": null,
            "justify_content": null,
            "justify_items": null,
            "left": null,
            "margin": null,
            "max_height": null,
            "max_width": null,
            "min_height": null,
            "min_width": null,
            "object_fit": null,
            "object_position": null,
            "order": null,
            "overflow": null,
            "overflow_x": null,
            "overflow_y": null,
            "padding": null,
            "right": null,
            "top": null,
            "visibility": null,
            "width": null
          }
        },
        "75be6941e9a844b8afe4e48d80683033": {
          "model_module": "@jupyter-widgets/base",
          "model_name": "LayoutModel",
          "model_module_version": "1.2.0",
          "state": {
            "_model_module": "@jupyter-widgets/base",
            "_model_module_version": "1.2.0",
            "_model_name": "LayoutModel",
            "_view_count": null,
            "_view_module": "@jupyter-widgets/base",
            "_view_module_version": "1.2.0",
            "_view_name": "LayoutView",
            "align_content": null,
            "align_items": null,
            "align_self": null,
            "border": null,
            "bottom": null,
            "display": null,
            "flex": null,
            "flex_flow": null,
            "grid_area": null,
            "grid_auto_columns": null,
            "grid_auto_flow": null,
            "grid_auto_rows": null,
            "grid_column": null,
            "grid_gap": null,
            "grid_row": null,
            "grid_template_areas": null,
            "grid_template_columns": null,
            "grid_template_rows": null,
            "height": null,
            "justify_content": null,
            "justify_items": null,
            "left": null,
            "margin": null,
            "max_height": null,
            "max_width": null,
            "min_height": null,
            "min_width": null,
            "object_fit": null,
            "object_position": null,
            "order": null,
            "overflow": null,
            "overflow_x": null,
            "overflow_y": null,
            "padding": null,
            "right": null,
            "top": null,
            "visibility": null,
            "width": null
          }
        },
        "8c9b6492cf1a461e8c1beae864a14161": {
          "model_module": "@jupyter-widgets/controls",
          "model_name": "DescriptionStyleModel",
          "model_module_version": "1.5.0",
          "state": {
            "_model_module": "@jupyter-widgets/controls",
            "_model_module_version": "1.5.0",
            "_model_name": "DescriptionStyleModel",
            "_view_count": null,
            "_view_module": "@jupyter-widgets/base",
            "_view_module_version": "1.2.0",
            "_view_name": "StyleView",
            "description_width": ""
          }
        },
        "557409c072934a88b81d255c04636bb5": {
          "model_module": "@jupyter-widgets/base",
          "model_name": "LayoutModel",
          "model_module_version": "1.2.0",
          "state": {
            "_model_module": "@jupyter-widgets/base",
            "_model_module_version": "1.2.0",
            "_model_name": "LayoutModel",
            "_view_count": null,
            "_view_module": "@jupyter-widgets/base",
            "_view_module_version": "1.2.0",
            "_view_name": "LayoutView",
            "align_content": null,
            "align_items": null,
            "align_self": null,
            "border": null,
            "bottom": null,
            "display": null,
            "flex": null,
            "flex_flow": null,
            "grid_area": null,
            "grid_auto_columns": null,
            "grid_auto_flow": null,
            "grid_auto_rows": null,
            "grid_column": null,
            "grid_gap": null,
            "grid_row": null,
            "grid_template_areas": null,
            "grid_template_columns": null,
            "grid_template_rows": null,
            "height": null,
            "justify_content": null,
            "justify_items": null,
            "left": null,
            "margin": null,
            "max_height": null,
            "max_width": null,
            "min_height": null,
            "min_width": null,
            "object_fit": null,
            "object_position": null,
            "order": null,
            "overflow": null,
            "overflow_x": null,
            "overflow_y": null,
            "padding": null,
            "right": null,
            "top": null,
            "visibility": null,
            "width": null
          }
        },
        "8cb57acf9485436f911b6bb6e179cf2f": {
          "model_module": "@jupyter-widgets/controls",
          "model_name": "ProgressStyleModel",
          "model_module_version": "1.5.0",
          "state": {
            "_model_module": "@jupyter-widgets/controls",
            "_model_module_version": "1.5.0",
            "_model_name": "ProgressStyleModel",
            "_view_count": null,
            "_view_module": "@jupyter-widgets/base",
            "_view_module_version": "1.2.0",
            "_view_name": "StyleView",
            "bar_color": null,
            "description_width": ""
          }
        },
        "42d8814e993043df95efdd746453733a": {
          "model_module": "@jupyter-widgets/base",
          "model_name": "LayoutModel",
          "model_module_version": "1.2.0",
          "state": {
            "_model_module": "@jupyter-widgets/base",
            "_model_module_version": "1.2.0",
            "_model_name": "LayoutModel",
            "_view_count": null,
            "_view_module": "@jupyter-widgets/base",
            "_view_module_version": "1.2.0",
            "_view_name": "LayoutView",
            "align_content": null,
            "align_items": null,
            "align_self": null,
            "border": null,
            "bottom": null,
            "display": null,
            "flex": null,
            "flex_flow": null,
            "grid_area": null,
            "grid_auto_columns": null,
            "grid_auto_flow": null,
            "grid_auto_rows": null,
            "grid_column": null,
            "grid_gap": null,
            "grid_row": null,
            "grid_template_areas": null,
            "grid_template_columns": null,
            "grid_template_rows": null,
            "height": null,
            "justify_content": null,
            "justify_items": null,
            "left": null,
            "margin": null,
            "max_height": null,
            "max_width": null,
            "min_height": null,
            "min_width": null,
            "object_fit": null,
            "object_position": null,
            "order": null,
            "overflow": null,
            "overflow_x": null,
            "overflow_y": null,
            "padding": null,
            "right": null,
            "top": null,
            "visibility": null,
            "width": null
          }
        },
        "5ebbb87570b5425288d711b8c39a3b60": {
          "model_module": "@jupyter-widgets/controls",
          "model_name": "DescriptionStyleModel",
          "model_module_version": "1.5.0",
          "state": {
            "_model_module": "@jupyter-widgets/controls",
            "_model_module_version": "1.5.0",
            "_model_name": "DescriptionStyleModel",
            "_view_count": null,
            "_view_module": "@jupyter-widgets/base",
            "_view_module_version": "1.2.0",
            "_view_name": "StyleView",
            "description_width": ""
          }
        },
        "adeb7423e4a74aa38ebb1f171cc9e44e": {
          "model_module": "@jupyter-widgets/controls",
          "model_name": "HBoxModel",
          "model_module_version": "1.5.0",
          "state": {
            "_dom_classes": [],
            "_model_module": "@jupyter-widgets/controls",
            "_model_module_version": "1.5.0",
            "_model_name": "HBoxModel",
            "_view_count": null,
            "_view_module": "@jupyter-widgets/controls",
            "_view_module_version": "1.5.0",
            "_view_name": "HBoxView",
            "box_style": "",
            "children": [
              "IPY_MODEL_3bb809b8124c4bbb8f1046fbc2b3e180",
              "IPY_MODEL_afdd0bc571564eacbb647aae6ae53c3f",
              "IPY_MODEL_52e18ecd1aaa4b17b29d1853462ac3ad"
            ],
            "layout": "IPY_MODEL_0e4f500a9d314e37a6fafd65cb3cd1c4"
          }
        },
        "3bb809b8124c4bbb8f1046fbc2b3e180": {
          "model_module": "@jupyter-widgets/controls",
          "model_name": "HTMLModel",
          "model_module_version": "1.5.0",
          "state": {
            "_dom_classes": [],
            "_model_module": "@jupyter-widgets/controls",
            "_model_module_version": "1.5.0",
            "_model_name": "HTMLModel",
            "_view_count": null,
            "_view_module": "@jupyter-widgets/controls",
            "_view_module_version": "1.5.0",
            "_view_name": "HTMLView",
            "description": "",
            "description_tooltip": null,
            "layout": "IPY_MODEL_c5527edbb73c44d89d2175e492fe3d77",
            "placeholder": "​",
            "style": "IPY_MODEL_ecb244ba4b3f4addb9c783fb586ba7a6",
            "value": "Downloading builder script: 100%"
          }
        },
        "afdd0bc571564eacbb647aae6ae53c3f": {
          "model_module": "@jupyter-widgets/controls",
          "model_name": "FloatProgressModel",
          "model_module_version": "1.5.0",
          "state": {
            "_dom_classes": [],
            "_model_module": "@jupyter-widgets/controls",
            "_model_module_version": "1.5.0",
            "_model_name": "FloatProgressModel",
            "_view_count": null,
            "_view_module": "@jupyter-widgets/controls",
            "_view_module_version": "1.5.0",
            "_view_name": "ProgressView",
            "bar_style": "success",
            "description": "",
            "description_tooltip": null,
            "layout": "IPY_MODEL_037c715d53834fac828a30e79839d264",
            "max": 6771,
            "min": 0,
            "orientation": "horizontal",
            "style": "IPY_MODEL_4c56647a40354d40a10d13177d77a0bd",
            "value": 6771
          }
        },
        "52e18ecd1aaa4b17b29d1853462ac3ad": {
          "model_module": "@jupyter-widgets/controls",
          "model_name": "HTMLModel",
          "model_module_version": "1.5.0",
          "state": {
            "_dom_classes": [],
            "_model_module": "@jupyter-widgets/controls",
            "_model_module_version": "1.5.0",
            "_model_name": "HTMLModel",
            "_view_count": null,
            "_view_module": "@jupyter-widgets/controls",
            "_view_module_version": "1.5.0",
            "_view_name": "HTMLView",
            "description": "",
            "description_tooltip": null,
            "layout": "IPY_MODEL_c89eb18531f149afa115cee0e4c637b7",
            "placeholder": "​",
            "style": "IPY_MODEL_88648f46bded443997c25e27a6524c96",
            "value": " 6.77k/6.77k [00:00&lt;00:00, 575kB/s]"
          }
        },
        "0e4f500a9d314e37a6fafd65cb3cd1c4": {
          "model_module": "@jupyter-widgets/base",
          "model_name": "LayoutModel",
          "model_module_version": "1.2.0",
          "state": {
            "_model_module": "@jupyter-widgets/base",
            "_model_module_version": "1.2.0",
            "_model_name": "LayoutModel",
            "_view_count": null,
            "_view_module": "@jupyter-widgets/base",
            "_view_module_version": "1.2.0",
            "_view_name": "LayoutView",
            "align_content": null,
            "align_items": null,
            "align_self": null,
            "border": null,
            "bottom": null,
            "display": null,
            "flex": null,
            "flex_flow": null,
            "grid_area": null,
            "grid_auto_columns": null,
            "grid_auto_flow": null,
            "grid_auto_rows": null,
            "grid_column": null,
            "grid_gap": null,
            "grid_row": null,
            "grid_template_areas": null,
            "grid_template_columns": null,
            "grid_template_rows": null,
            "height": null,
            "justify_content": null,
            "justify_items": null,
            "left": null,
            "margin": null,
            "max_height": null,
            "max_width": null,
            "min_height": null,
            "min_width": null,
            "object_fit": null,
            "object_position": null,
            "order": null,
            "overflow": null,
            "overflow_x": null,
            "overflow_y": null,
            "padding": null,
            "right": null,
            "top": null,
            "visibility": null,
            "width": null
          }
        },
        "c5527edbb73c44d89d2175e492fe3d77": {
          "model_module": "@jupyter-widgets/base",
          "model_name": "LayoutModel",
          "model_module_version": "1.2.0",
          "state": {
            "_model_module": "@jupyter-widgets/base",
            "_model_module_version": "1.2.0",
            "_model_name": "LayoutModel",
            "_view_count": null,
            "_view_module": "@jupyter-widgets/base",
            "_view_module_version": "1.2.0",
            "_view_name": "LayoutView",
            "align_content": null,
            "align_items": null,
            "align_self": null,
            "border": null,
            "bottom": null,
            "display": null,
            "flex": null,
            "flex_flow": null,
            "grid_area": null,
            "grid_auto_columns": null,
            "grid_auto_flow": null,
            "grid_auto_rows": null,
            "grid_column": null,
            "grid_gap": null,
            "grid_row": null,
            "grid_template_areas": null,
            "grid_template_columns": null,
            "grid_template_rows": null,
            "height": null,
            "justify_content": null,
            "justify_items": null,
            "left": null,
            "margin": null,
            "max_height": null,
            "max_width": null,
            "min_height": null,
            "min_width": null,
            "object_fit": null,
            "object_position": null,
            "order": null,
            "overflow": null,
            "overflow_x": null,
            "overflow_y": null,
            "padding": null,
            "right": null,
            "top": null,
            "visibility": null,
            "width": null
          }
        },
        "ecb244ba4b3f4addb9c783fb586ba7a6": {
          "model_module": "@jupyter-widgets/controls",
          "model_name": "DescriptionStyleModel",
          "model_module_version": "1.5.0",
          "state": {
            "_model_module": "@jupyter-widgets/controls",
            "_model_module_version": "1.5.0",
            "_model_name": "DescriptionStyleModel",
            "_view_count": null,
            "_view_module": "@jupyter-widgets/base",
            "_view_module_version": "1.2.0",
            "_view_name": "StyleView",
            "description_width": ""
          }
        },
        "037c715d53834fac828a30e79839d264": {
          "model_module": "@jupyter-widgets/base",
          "model_name": "LayoutModel",
          "model_module_version": "1.2.0",
          "state": {
            "_model_module": "@jupyter-widgets/base",
            "_model_module_version": "1.2.0",
            "_model_name": "LayoutModel",
            "_view_count": null,
            "_view_module": "@jupyter-widgets/base",
            "_view_module_version": "1.2.0",
            "_view_name": "LayoutView",
            "align_content": null,
            "align_items": null,
            "align_self": null,
            "border": null,
            "bottom": null,
            "display": null,
            "flex": null,
            "flex_flow": null,
            "grid_area": null,
            "grid_auto_columns": null,
            "grid_auto_flow": null,
            "grid_auto_rows": null,
            "grid_column": null,
            "grid_gap": null,
            "grid_row": null,
            "grid_template_areas": null,
            "grid_template_columns": null,
            "grid_template_rows": null,
            "height": null,
            "justify_content": null,
            "justify_items": null,
            "left": null,
            "margin": null,
            "max_height": null,
            "max_width": null,
            "min_height": null,
            "min_width": null,
            "object_fit": null,
            "object_position": null,
            "order": null,
            "overflow": null,
            "overflow_x": null,
            "overflow_y": null,
            "padding": null,
            "right": null,
            "top": null,
            "visibility": null,
            "width": null
          }
        },
        "4c56647a40354d40a10d13177d77a0bd": {
          "model_module": "@jupyter-widgets/controls",
          "model_name": "ProgressStyleModel",
          "model_module_version": "1.5.0",
          "state": {
            "_model_module": "@jupyter-widgets/controls",
            "_model_module_version": "1.5.0",
            "_model_name": "ProgressStyleModel",
            "_view_count": null,
            "_view_module": "@jupyter-widgets/base",
            "_view_module_version": "1.2.0",
            "_view_name": "StyleView",
            "bar_color": null,
            "description_width": ""
          }
        },
        "c89eb18531f149afa115cee0e4c637b7": {
          "model_module": "@jupyter-widgets/base",
          "model_name": "LayoutModel",
          "model_module_version": "1.2.0",
          "state": {
            "_model_module": "@jupyter-widgets/base",
            "_model_module_version": "1.2.0",
            "_model_name": "LayoutModel",
            "_view_count": null,
            "_view_module": "@jupyter-widgets/base",
            "_view_module_version": "1.2.0",
            "_view_name": "LayoutView",
            "align_content": null,
            "align_items": null,
            "align_self": null,
            "border": null,
            "bottom": null,
            "display": null,
            "flex": null,
            "flex_flow": null,
            "grid_area": null,
            "grid_auto_columns": null,
            "grid_auto_flow": null,
            "grid_auto_rows": null,
            "grid_column": null,
            "grid_gap": null,
            "grid_row": null,
            "grid_template_areas": null,
            "grid_template_columns": null,
            "grid_template_rows": null,
            "height": null,
            "justify_content": null,
            "justify_items": null,
            "left": null,
            "margin": null,
            "max_height": null,
            "max_width": null,
            "min_height": null,
            "min_width": null,
            "object_fit": null,
            "object_position": null,
            "order": null,
            "overflow": null,
            "overflow_x": null,
            "overflow_y": null,
            "padding": null,
            "right": null,
            "top": null,
            "visibility": null,
            "width": null
          }
        },
        "88648f46bded443997c25e27a6524c96": {
          "model_module": "@jupyter-widgets/controls",
          "model_name": "DescriptionStyleModel",
          "model_module_version": "1.5.0",
          "state": {
            "_model_module": "@jupyter-widgets/controls",
            "_model_module_version": "1.5.0",
            "_model_name": "DescriptionStyleModel",
            "_view_count": null,
            "_view_module": "@jupyter-widgets/base",
            "_view_module_version": "1.2.0",
            "_view_name": "StyleView",
            "description_width": ""
          }
        }
      }
    }
  },
  "cells": [
    {
      "cell_type": "markdown",
      "source": [
        "## <Font color = 'indianred'>**1. Set Environment**"
      ],
      "metadata": {
        "id": "m3v687cy0k0S"
      }
    },
    {
      "cell_type": "code",
      "source": [
        "import sys"
      ],
      "metadata": {
        "id": "npcv2Nph5Alj"
      },
      "execution_count": 1,
      "outputs": []
    },
    {
      "cell_type": "code",
      "execution_count": 2,
      "metadata": {
        "colab": {
          "base_uri": "https://localhost:8080/"
        },
        "id": "r9kvmstQhI9G",
        "outputId": "4158e458-c6ec-42e9-f9eb-792e446d3dcc"
      },
      "outputs": [
        {
          "output_type": "stream",
          "name": "stdout",
          "text": [
            "Mounted at /content/drive\n",
            "\u001b[2K     \u001b[90m━━━━━━━━━━━━━━━━━━━━━━━━━━━━━━━━━━━━━━━━\u001b[0m \u001b[32m23.7/23.7 MB\u001b[0m \u001b[31m69.5 MB/s\u001b[0m eta \u001b[36m0:00:00\u001b[0m\n",
            "\u001b[2K     \u001b[90m━━━━━━━━━━━━━━━━━━━━━━━━━━━━━━━━━━━━━━━━\u001b[0m \u001b[32m823.6/823.6 kB\u001b[0m \u001b[31m64.5 MB/s\u001b[0m eta \u001b[36m0:00:00\u001b[0m\n",
            "\u001b[2K     \u001b[90m━━━━━━━━━━━━━━━━━━━━━━━━━━━━━━━━━━━━━━━━\u001b[0m \u001b[32m14.1/14.1 MB\u001b[0m \u001b[31m92.8 MB/s\u001b[0m eta \u001b[36m0:00:00\u001b[0m\n",
            "\u001b[2K     \u001b[90m━━━━━━━━━━━━━━━━━━━━━━━━━━━━━━━━━━━━━━━━\u001b[0m \u001b[32m731.7/731.7 MB\u001b[0m \u001b[31m2.5 MB/s\u001b[0m eta \u001b[36m0:00:00\u001b[0m\n",
            "\u001b[2K     \u001b[90m━━━━━━━━━━━━━━━━━━━━━━━━━━━━━━━━━━━━━━━━\u001b[0m \u001b[32m410.6/410.6 MB\u001b[0m \u001b[31m3.1 MB/s\u001b[0m eta \u001b[36m0:00:00\u001b[0m\n",
            "\u001b[2K     \u001b[90m━━━━━━━━━━━━━━━━━━━━━━━━━━━━━━━━━━━━━━━━\u001b[0m \u001b[32m121.6/121.6 MB\u001b[0m \u001b[31m13.6 MB/s\u001b[0m eta \u001b[36m0:00:00\u001b[0m\n",
            "\u001b[2K     \u001b[90m━━━━━━━━━━━━━━━━━━━━━━━━━━━━━━━━━━━━━━━━\u001b[0m \u001b[32m56.5/56.5 MB\u001b[0m \u001b[31m30.3 MB/s\u001b[0m eta \u001b[36m0:00:00\u001b[0m\n",
            "\u001b[2K     \u001b[90m━━━━━━━━━━━━━━━━━━━━━━━━━━━━━━━━━━━━━━━━\u001b[0m \u001b[32m124.2/124.2 MB\u001b[0m \u001b[31m7.5 MB/s\u001b[0m eta \u001b[36m0:00:00\u001b[0m\n",
            "\u001b[2K     \u001b[90m━━━━━━━━━━━━━━━━━━━━━━━━━━━━━━━━━━━━━━━━\u001b[0m \u001b[32m196.0/196.0 MB\u001b[0m \u001b[31m4.0 MB/s\u001b[0m eta \u001b[36m0:00:00\u001b[0m\n",
            "\u001b[2K     \u001b[90m━━━━━━━━━━━━━━━━━━━━━━━━━━━━━━━━━━━━━━━━\u001b[0m \u001b[32m166.0/166.0 MB\u001b[0m \u001b[31m11.1 MB/s\u001b[0m eta \u001b[36m0:00:00\u001b[0m\n",
            "\u001b[2K     \u001b[90m━━━━━━━━━━━━━━━━━━━━━━━━━━━━━━━━━━━━━━━━\u001b[0m \u001b[32m99.1/99.1 kB\u001b[0m \u001b[31m15.2 MB/s\u001b[0m eta \u001b[36m0:00:00\u001b[0m\n",
            "\u001b[2K     \u001b[90m━━━━━━━━━━━━━━━━━━━━━━━━━━━━━━━━━━━━━━━━\u001b[0m \u001b[32m21.1/21.1 MB\u001b[0m \u001b[31m94.6 MB/s\u001b[0m eta \u001b[36m0:00:00\u001b[0m\n",
            "\u001b[2K     \u001b[90m━━━━━━━━━━━━━━━━━━━━━━━━━━━━━━━━━━━━━━━━\u001b[0m \u001b[32m8.8/8.8 MB\u001b[0m \u001b[31m74.3 MB/s\u001b[0m eta \u001b[36m0:00:00\u001b[0m\n",
            "\u001b[2K     \u001b[90m━━━━━━━━━━━━━━━━━━━━━━━━━━━━━━━━━━━━━━━━\u001b[0m \u001b[32m84.1/84.1 kB\u001b[0m \u001b[31m13.8 MB/s\u001b[0m eta \u001b[36m0:00:00\u001b[0m\n",
            "\u001b[2K     \u001b[90m━━━━━━━━━━━━━━━━━━━━━━━━━━━━━━━━━━━━━━━━\u001b[0m \u001b[32m2.2/2.2 MB\u001b[0m \u001b[31m94.2 MB/s\u001b[0m eta \u001b[36m0:00:00\u001b[0m\n",
            "\u001b[2K     \u001b[90m━━━━━━━━━━━━━━━━━━━━━━━━━━━━━━━━━━━━━━━━\u001b[0m \u001b[32m510.5/510.5 kB\u001b[0m \u001b[31m49.6 MB/s\u001b[0m eta \u001b[36m0:00:00\u001b[0m\n",
            "\u001b[2K     \u001b[90m━━━━━━━━━━━━━━━━━━━━━━━━━━━━━━━━━━━━━━━━\u001b[0m \u001b[32m290.1/290.1 kB\u001b[0m \u001b[31m36.9 MB/s\u001b[0m eta \u001b[36m0:00:00\u001b[0m\n",
            "\u001b[2K     \u001b[90m━━━━━━━━━━━━━━━━━━━━━━━━━━━━━━━━━━━━━━━━\u001b[0m \u001b[32m116.3/116.3 kB\u001b[0m \u001b[31m18.2 MB/s\u001b[0m eta \u001b[36m0:00:00\u001b[0m\n",
            "\u001b[2K     \u001b[90m━━━━━━━━━━━━━━━━━━━━━━━━━━━━━━━━━━━━━━━━\u001b[0m \u001b[32m194.1/194.1 kB\u001b[0m \u001b[31m28.0 MB/s\u001b[0m eta \u001b[36m0:00:00\u001b[0m\n",
            "\u001b[2K     \u001b[90m━━━━━━━━━━━━━━━━━━━━━━━━━━━━━━━━━━━━━━━━\u001b[0m \u001b[32m134.8/134.8 kB\u001b[0m \u001b[31m21.5 MB/s\u001b[0m eta \u001b[36m0:00:00\u001b[0m\n",
            "\u001b[2K     \u001b[90m━━━━━━━━━━━━━━━━━━━━━━━━━━━━━━━━━━━━━━━━\u001b[0m \u001b[32m207.3/207.3 kB\u001b[0m \u001b[31m27.8 MB/s\u001b[0m eta \u001b[36m0:00:00\u001b[0m\n",
            "\u001b[2K     \u001b[90m━━━━━━━━━━━━━━━━━━━━━━━━━━━━━━━━━━━━━━━━\u001b[0m \u001b[32m266.1/266.1 kB\u001b[0m \u001b[31m32.8 MB/s\u001b[0m eta \u001b[36m0:00:00\u001b[0m\n",
            "\u001b[2K     \u001b[90m━━━━━━━━━━━━━━━━━━━━━━━━━━━━━━━━━━━━━━━━\u001b[0m \u001b[32m62.7/62.7 kB\u001b[0m \u001b[31m9.0 MB/s\u001b[0m eta \u001b[36m0:00:00\u001b[0m\n",
            "\u001b[2K     \u001b[90m━━━━━━━━━━━━━━━━━━━━━━━━━━━━━━━━━━━━━━━━\u001b[0m \u001b[32m12.8/12.8 MB\u001b[0m \u001b[31m101.8 MB/s\u001b[0m eta \u001b[36m0:00:00\u001b[0m\n",
            "\u001b[?25h\u001b[38;5;2m✔ Download and installation successful\u001b[0m\n",
            "You can now load the package via spacy.load('en_core_web_sm')\n",
            "\u001b[38;5;3m⚠ Restart to reload dependencies\u001b[0m\n",
            "If you are in a Jupyter or Colab notebook, you may need to restart Python in\n",
            "order to load all the package's dependencies. You can do this by selecting the\n",
            "'Restart kernel' or 'Restart runtime' option.\n"
          ]
        }
      ],
      "source": [
        "# If in Colab, then import the drive module from google.colab\n",
        "if 'google.colab' in str(get_ipython()):\n",
        "  from google.colab import drive\n",
        "  # Mount the Google Drive to access files stored there\n",
        "  drive.mount('/content/drive')\n",
        "\n",
        "  # Install the latest version of torchtext library quietly without showing output\n",
        "\n",
        "  !pip install torchtext -qq\n",
        "  !pip install transformers evaluate wandb datasets accelerate -U -qq\n",
        "  !pip install -U nltk -qq\n",
        "  !pip install -U spacy -qq\n",
        "  !python -m spacy download en_core_web_sm -qq\n",
        "\n",
        "  basepath = '/content/drive/MyDrive/data'\n",
        "  sys.path.append('/content/drive/MyDrive/data/custom-functions')\n",
        "else:\n",
        "  basepath = 'D:/UTDallas/Courses/Spring 24/Applied NLP/Data Folder'"
      ]
    },
    {
      "cell_type": "code",
      "source": [
        "# Importing PyTorch library for tensor computations and neural network modules\n",
        "import torch\n",
        "import torch.nn as nn\n",
        "\n",
        "# For working with textual data vocabularies and for displaying model summaries\n",
        "from torchtext.vocab import vocab\n",
        "\n",
        "# General-purpose Python libraries for random number generation and numerical operations\n",
        "import random\n",
        "import numpy as np\n",
        "import pandas as pd\n",
        "\n",
        "# Utilities for efficient serialization/deserialization of Python objects and for element tallying\n",
        "import joblib\n",
        "from collections import Counter\n",
        "\n",
        "# For creating lightweight attribute classes and for partial function application\n",
        "from functools import partial\n",
        "\n",
        "# For filesystem path handling, generating and displaying confusion matrices, and date-time manipulations\n",
        "from pathlib import Path\n",
        "from sklearn.metrics import confusion_matrix\n",
        "from datetime import datetime\n",
        "\n",
        "# For plotting and visualization\n",
        "import matplotlib.pyplot as plt\n",
        "import seaborn as sns\n",
        "# %matplotlib inline\n",
        "\n",
        "### NEW ##########################\n",
        "# imports from Huggingface ecosystem\n",
        "from transformers.modeling_outputs import SequenceClassifierOutput\n",
        "from transformers import PreTrainedModel, PretrainedConfig\n",
        "from transformers import TrainingArguments, Trainer\n",
        "from datasets import Dataset\n",
        "import evaluate\n",
        "\n",
        "# wandb library\n",
        "import wandb"
      ],
      "metadata": {
        "id": "nywiR_54jAI3"
      },
      "execution_count": 3,
      "outputs": []
    },
    {
      "cell_type": "code",
      "source": [
        "base_folder = Path(basepath)\n",
        "data_folder = base_folder / 'datasets/emotion_detection'\n",
        "model_folder = base_folder / 'models/nlp_spring_2024/emotion_detection'"
      ],
      "metadata": {
        "id": "Tknx-aHdhb3E"
      },
      "execution_count": 4,
      "outputs": []
    },
    {
      "cell_type": "code",
      "source": [
        "model_folder.mkdir(exist_ok=True, parents=True)\n",
        "data_folder.mkdir(exist_ok=True, parents=True)"
      ],
      "metadata": {
        "id": "m4ey16XVju41"
      },
      "execution_count": 5,
      "outputs": []
    },
    {
      "cell_type": "markdown",
      "source": [
        "## <Font color = 'indianred'>**2. Load Dataset**"
      ],
      "metadata": {
        "id": "dsv3cSNf04BK"
      }
    },
    {
      "cell_type": "code",
      "source": [
        "# location of train and test files\n",
        "train_file = data_folder / 'train.csv'\n",
        "test_file = data_folder / 'test.csv'"
      ],
      "metadata": {
        "id": "lcnUyIRa0xjh"
      },
      "execution_count": 6,
      "outputs": []
    },
    {
      "cell_type": "code",
      "source": [
        "# creating Pandas Dataframe\n",
        "train_data = pd.read_csv(train_file, index_col=0)\n",
        "test_data = pd.read_csv(test_file, index_col=0)"
      ],
      "metadata": {
        "id": "OtbxZofY0_pD"
      },
      "execution_count": 7,
      "outputs": []
    },
    {
      "cell_type": "code",
      "source": [
        "train_data.info()"
      ],
      "metadata": {
        "colab": {
          "base_uri": "https://localhost:8080/"
        },
        "id": "zJ8w6hEJ1CHh",
        "outputId": "4ca0efa4-3e01-4565-e873-0823707f14ea"
      },
      "execution_count": 8,
      "outputs": [
        {
          "output_type": "stream",
          "name": "stdout",
          "text": [
            "<class 'pandas.core.frame.DataFrame'>\n",
            "Index: 7724 entries, 2017-21441 to 2018-03386\n",
            "Data columns (total 12 columns):\n",
            " #   Column        Non-Null Count  Dtype \n",
            "---  ------        --------------  ----- \n",
            " 0   Tweet         7724 non-null   object\n",
            " 1   anger         7724 non-null   int64 \n",
            " 2   anticipation  7724 non-null   int64 \n",
            " 3   disgust       7724 non-null   int64 \n",
            " 4   fear          7724 non-null   int64 \n",
            " 5   joy           7724 non-null   int64 \n",
            " 6   love          7724 non-null   int64 \n",
            " 7   optimism      7724 non-null   int64 \n",
            " 8   pessimism     7724 non-null   int64 \n",
            " 9   sadness       7724 non-null   int64 \n",
            " 10  surprise      7724 non-null   int64 \n",
            " 11  trust         7724 non-null   int64 \n",
            "dtypes: int64(11), object(1)\n",
            "memory usage: 784.5+ KB\n"
          ]
        }
      ]
    },
    {
      "cell_type": "code",
      "source": [
        "y = train_data[['anger', 'anticipation', 'disgust', 'fear', 'joy', 'love','optimism', 'pessimism', 'sadness', 'surprise', 'trust']].to_numpy()"
      ],
      "metadata": {
        "id": "2s13_aswy5X5"
      },
      "execution_count": 9,
      "outputs": []
    },
    {
      "cell_type": "code",
      "source": [
        "print(y)"
      ],
      "metadata": {
        "colab": {
          "base_uri": "https://localhost:8080/"
        },
        "id": "7viB4lFgz6UD",
        "outputId": "3372d957-ba75-481d-93cb-7d43534bd4dc"
      },
      "execution_count": 10,
      "outputs": [
        {
          "output_type": "stream",
          "name": "stdout",
          "text": [
            "[[0 1 0 ... 0 0 1]\n",
            " [0 0 0 ... 0 0 0]\n",
            " [1 0 1 ... 0 0 0]\n",
            " ...\n",
            " [1 0 1 ... 1 0 0]\n",
            " [0 0 0 ... 0 0 0]\n",
            " [0 0 0 ... 0 0 0]]\n"
          ]
        }
      ]
    },
    {
      "cell_type": "code",
      "source": [
        "X_train = train_data.drop(columns = ['anger', 'anticipation', 'disgust', 'fear', 'joy', 'love','optimism', 'pessimism', 'sadness', 'surprise', 'trust'])\n",
        "X_train.head()"
      ],
      "metadata": {
        "colab": {
          "base_uri": "https://localhost:8080/",
          "height": 237
        },
        "id": "mfL4PuK62A2y",
        "outputId": "c6d18361-c8ea-4efb-a705-c946e0687fab"
      },
      "execution_count": 11,
      "outputs": [
        {
          "output_type": "execute_result",
          "data": {
            "text/plain": [
              "                                                        Tweet\n",
              "ID                                                           \n",
              "2017-21441  “Worry is a down payment on a problem you may ...\n",
              "2017-31535  Whatever you decide to do make sure it makes y...\n",
              "2017-21068  @Max_Kellerman  it also helps that the majorit...\n",
              "2017-31436  Accept the challenges so that you can literall...\n",
              "2017-22195  My roommate: it's okay that we can't spell bec..."
            ],
            "text/html": [
              "\n",
              "  <div id=\"df-40fe4d3d-7dd1-4b03-a189-e8de68c6ffec\" class=\"colab-df-container\">\n",
              "    <div>\n",
              "<style scoped>\n",
              "    .dataframe tbody tr th:only-of-type {\n",
              "        vertical-align: middle;\n",
              "    }\n",
              "\n",
              "    .dataframe tbody tr th {\n",
              "        vertical-align: top;\n",
              "    }\n",
              "\n",
              "    .dataframe thead th {\n",
              "        text-align: right;\n",
              "    }\n",
              "</style>\n",
              "<table border=\"1\" class=\"dataframe\">\n",
              "  <thead>\n",
              "    <tr style=\"text-align: right;\">\n",
              "      <th></th>\n",
              "      <th>Tweet</th>\n",
              "    </tr>\n",
              "    <tr>\n",
              "      <th>ID</th>\n",
              "      <th></th>\n",
              "    </tr>\n",
              "  </thead>\n",
              "  <tbody>\n",
              "    <tr>\n",
              "      <th>2017-21441</th>\n",
              "      <td>“Worry is a down payment on a problem you may ...</td>\n",
              "    </tr>\n",
              "    <tr>\n",
              "      <th>2017-31535</th>\n",
              "      <td>Whatever you decide to do make sure it makes y...</td>\n",
              "    </tr>\n",
              "    <tr>\n",
              "      <th>2017-21068</th>\n",
              "      <td>@Max_Kellerman  it also helps that the majorit...</td>\n",
              "    </tr>\n",
              "    <tr>\n",
              "      <th>2017-31436</th>\n",
              "      <td>Accept the challenges so that you can literall...</td>\n",
              "    </tr>\n",
              "    <tr>\n",
              "      <th>2017-22195</th>\n",
              "      <td>My roommate: it's okay that we can't spell bec...</td>\n",
              "    </tr>\n",
              "  </tbody>\n",
              "</table>\n",
              "</div>\n",
              "    <div class=\"colab-df-buttons\">\n",
              "\n",
              "  <div class=\"colab-df-container\">\n",
              "    <button class=\"colab-df-convert\" onclick=\"convertToInteractive('df-40fe4d3d-7dd1-4b03-a189-e8de68c6ffec')\"\n",
              "            title=\"Convert this dataframe to an interactive table.\"\n",
              "            style=\"display:none;\">\n",
              "\n",
              "  <svg xmlns=\"http://www.w3.org/2000/svg\" height=\"24px\" viewBox=\"0 -960 960 960\">\n",
              "    <path d=\"M120-120v-720h720v720H120Zm60-500h600v-160H180v160Zm220 220h160v-160H400v160Zm0 220h160v-160H400v160ZM180-400h160v-160H180v160Zm440 0h160v-160H620v160ZM180-180h160v-160H180v160Zm440 0h160v-160H620v160Z\"/>\n",
              "  </svg>\n",
              "    </button>\n",
              "\n",
              "  <style>\n",
              "    .colab-df-container {\n",
              "      display:flex;\n",
              "      gap: 12px;\n",
              "    }\n",
              "\n",
              "    .colab-df-convert {\n",
              "      background-color: #E8F0FE;\n",
              "      border: none;\n",
              "      border-radius: 50%;\n",
              "      cursor: pointer;\n",
              "      display: none;\n",
              "      fill: #1967D2;\n",
              "      height: 32px;\n",
              "      padding: 0 0 0 0;\n",
              "      width: 32px;\n",
              "    }\n",
              "\n",
              "    .colab-df-convert:hover {\n",
              "      background-color: #E2EBFA;\n",
              "      box-shadow: 0px 1px 2px rgba(60, 64, 67, 0.3), 0px 1px 3px 1px rgba(60, 64, 67, 0.15);\n",
              "      fill: #174EA6;\n",
              "    }\n",
              "\n",
              "    .colab-df-buttons div {\n",
              "      margin-bottom: 4px;\n",
              "    }\n",
              "\n",
              "    [theme=dark] .colab-df-convert {\n",
              "      background-color: #3B4455;\n",
              "      fill: #D2E3FC;\n",
              "    }\n",
              "\n",
              "    [theme=dark] .colab-df-convert:hover {\n",
              "      background-color: #434B5C;\n",
              "      box-shadow: 0px 1px 3px 1px rgba(0, 0, 0, 0.15);\n",
              "      filter: drop-shadow(0px 1px 2px rgba(0, 0, 0, 0.3));\n",
              "      fill: #FFFFFF;\n",
              "    }\n",
              "  </style>\n",
              "\n",
              "    <script>\n",
              "      const buttonEl =\n",
              "        document.querySelector('#df-40fe4d3d-7dd1-4b03-a189-e8de68c6ffec button.colab-df-convert');\n",
              "      buttonEl.style.display =\n",
              "        google.colab.kernel.accessAllowed ? 'block' : 'none';\n",
              "\n",
              "      async function convertToInteractive(key) {\n",
              "        const element = document.querySelector('#df-40fe4d3d-7dd1-4b03-a189-e8de68c6ffec');\n",
              "        const dataTable =\n",
              "          await google.colab.kernel.invokeFunction('convertToInteractive',\n",
              "                                                    [key], {});\n",
              "        if (!dataTable) return;\n",
              "\n",
              "        const docLinkHtml = 'Like what you see? Visit the ' +\n",
              "          '<a target=\"_blank\" href=https://colab.research.google.com/notebooks/data_table.ipynb>data table notebook</a>'\n",
              "          + ' to learn more about interactive tables.';\n",
              "        element.innerHTML = '';\n",
              "        dataTable['output_type'] = 'display_data';\n",
              "        await google.colab.output.renderOutput(dataTable, element);\n",
              "        const docLink = document.createElement('div');\n",
              "        docLink.innerHTML = docLinkHtml;\n",
              "        element.appendChild(docLink);\n",
              "      }\n",
              "    </script>\n",
              "  </div>\n",
              "\n",
              "\n",
              "<div id=\"df-f484ffff-8378-4a7e-9905-a59c80b0e224\">\n",
              "  <button class=\"colab-df-quickchart\" onclick=\"quickchart('df-f484ffff-8378-4a7e-9905-a59c80b0e224')\"\n",
              "            title=\"Suggest charts\"\n",
              "            style=\"display:none;\">\n",
              "\n",
              "<svg xmlns=\"http://www.w3.org/2000/svg\" height=\"24px\"viewBox=\"0 0 24 24\"\n",
              "     width=\"24px\">\n",
              "    <g>\n",
              "        <path d=\"M19 3H5c-1.1 0-2 .9-2 2v14c0 1.1.9 2 2 2h14c1.1 0 2-.9 2-2V5c0-1.1-.9-2-2-2zM9 17H7v-7h2v7zm4 0h-2V7h2v10zm4 0h-2v-4h2v4z\"/>\n",
              "    </g>\n",
              "</svg>\n",
              "  </button>\n",
              "\n",
              "<style>\n",
              "  .colab-df-quickchart {\n",
              "      --bg-color: #E8F0FE;\n",
              "      --fill-color: #1967D2;\n",
              "      --hover-bg-color: #E2EBFA;\n",
              "      --hover-fill-color: #174EA6;\n",
              "      --disabled-fill-color: #AAA;\n",
              "      --disabled-bg-color: #DDD;\n",
              "  }\n",
              "\n",
              "  [theme=dark] .colab-df-quickchart {\n",
              "      --bg-color: #3B4455;\n",
              "      --fill-color: #D2E3FC;\n",
              "      --hover-bg-color: #434B5C;\n",
              "      --hover-fill-color: #FFFFFF;\n",
              "      --disabled-bg-color: #3B4455;\n",
              "      --disabled-fill-color: #666;\n",
              "  }\n",
              "\n",
              "  .colab-df-quickchart {\n",
              "    background-color: var(--bg-color);\n",
              "    border: none;\n",
              "    border-radius: 50%;\n",
              "    cursor: pointer;\n",
              "    display: none;\n",
              "    fill: var(--fill-color);\n",
              "    height: 32px;\n",
              "    padding: 0;\n",
              "    width: 32px;\n",
              "  }\n",
              "\n",
              "  .colab-df-quickchart:hover {\n",
              "    background-color: var(--hover-bg-color);\n",
              "    box-shadow: 0 1px 2px rgba(60, 64, 67, 0.3), 0 1px 3px 1px rgba(60, 64, 67, 0.15);\n",
              "    fill: var(--button-hover-fill-color);\n",
              "  }\n",
              "\n",
              "  .colab-df-quickchart-complete:disabled,\n",
              "  .colab-df-quickchart-complete:disabled:hover {\n",
              "    background-color: var(--disabled-bg-color);\n",
              "    fill: var(--disabled-fill-color);\n",
              "    box-shadow: none;\n",
              "  }\n",
              "\n",
              "  .colab-df-spinner {\n",
              "    border: 2px solid var(--fill-color);\n",
              "    border-color: transparent;\n",
              "    border-bottom-color: var(--fill-color);\n",
              "    animation:\n",
              "      spin 1s steps(1) infinite;\n",
              "  }\n",
              "\n",
              "  @keyframes spin {\n",
              "    0% {\n",
              "      border-color: transparent;\n",
              "      border-bottom-color: var(--fill-color);\n",
              "      border-left-color: var(--fill-color);\n",
              "    }\n",
              "    20% {\n",
              "      border-color: transparent;\n",
              "      border-left-color: var(--fill-color);\n",
              "      border-top-color: var(--fill-color);\n",
              "    }\n",
              "    30% {\n",
              "      border-color: transparent;\n",
              "      border-left-color: var(--fill-color);\n",
              "      border-top-color: var(--fill-color);\n",
              "      border-right-color: var(--fill-color);\n",
              "    }\n",
              "    40% {\n",
              "      border-color: transparent;\n",
              "      border-right-color: var(--fill-color);\n",
              "      border-top-color: var(--fill-color);\n",
              "    }\n",
              "    60% {\n",
              "      border-color: transparent;\n",
              "      border-right-color: var(--fill-color);\n",
              "    }\n",
              "    80% {\n",
              "      border-color: transparent;\n",
              "      border-right-color: var(--fill-color);\n",
              "      border-bottom-color: var(--fill-color);\n",
              "    }\n",
              "    90% {\n",
              "      border-color: transparent;\n",
              "      border-bottom-color: var(--fill-color);\n",
              "    }\n",
              "  }\n",
              "</style>\n",
              "\n",
              "  <script>\n",
              "    async function quickchart(key) {\n",
              "      const quickchartButtonEl =\n",
              "        document.querySelector('#' + key + ' button');\n",
              "      quickchartButtonEl.disabled = true;  // To prevent multiple clicks.\n",
              "      quickchartButtonEl.classList.add('colab-df-spinner');\n",
              "      try {\n",
              "        const charts = await google.colab.kernel.invokeFunction(\n",
              "            'suggestCharts', [key], {});\n",
              "      } catch (error) {\n",
              "        console.error('Error during call to suggestCharts:', error);\n",
              "      }\n",
              "      quickchartButtonEl.classList.remove('colab-df-spinner');\n",
              "      quickchartButtonEl.classList.add('colab-df-quickchart-complete');\n",
              "    }\n",
              "    (() => {\n",
              "      let quickchartButtonEl =\n",
              "        document.querySelector('#df-f484ffff-8378-4a7e-9905-a59c80b0e224 button');\n",
              "      quickchartButtonEl.style.display =\n",
              "        google.colab.kernel.accessAllowed ? 'block' : 'none';\n",
              "    })();\n",
              "  </script>\n",
              "</div>\n",
              "\n",
              "    </div>\n",
              "  </div>\n"
            ],
            "application/vnd.google.colaboratory.intrinsic+json": {
              "type": "dataframe",
              "variable_name": "X_train",
              "summary": "{\n  \"name\": \"X_train\",\n  \"rows\": 7724,\n  \"fields\": [\n    {\n      \"column\": \"ID\",\n      \"properties\": {\n        \"dtype\": \"string\",\n        \"num_unique_values\": 7724,\n        \"samples\": [\n          \"2017-30250\",\n          \"2017-30519\",\n          \"2018-01720\"\n        ],\n        \"semantic_type\": \"\",\n        \"description\": \"\"\n      }\n    },\n    {\n      \"column\": \"Tweet\",\n      \"properties\": {\n        \"dtype\": \"string\",\n        \"num_unique_values\": 7724,\n        \"samples\": [\n          \"I'm due for a big change! I've prayed on it, I think I deserve it #positivity \",\n          \"incetown, age 23, joyful, elevated in hope with the\",\n          \"Never heard of #CaraCaraOranges until today. Very #tasty! I highly recommend them! #delicious #GoodForYou #fruits  #oranges\"\n        ],\n        \"semantic_type\": \"\",\n        \"description\": \"\"\n      }\n    }\n  ]\n}"
            }
          },
          "metadata": {},
          "execution_count": 11
        }
      ]
    },
    {
      "cell_type": "code",
      "source": [
        "from pprint import pprint\n",
        "pprint(X_train.values[0], width = 100)"
      ],
      "metadata": {
        "colab": {
          "base_uri": "https://localhost:8080/"
        },
        "id": "xQl25DNO1pmm",
        "outputId": "ec58a276-10d9-4557-e3de-55f097957a02"
      },
      "execution_count": 12,
      "outputs": [
        {
          "output_type": "stream",
          "name": "stdout",
          "text": [
            "array([\"“Worry is a down payment on a problem you may never have'. \\xa0Joyce Meyer.  #motivation #leadership #worry\"],\n",
            "      dtype=object)\n"
          ]
        }
      ]
    },
    {
      "cell_type": "code",
      "source": [
        "type(X_train.values[1])\n",
        "print(X_train['Tweet'])"
      ],
      "metadata": {
        "colab": {
          "base_uri": "https://localhost:8080/"
        },
        "id": "oNV5gq1f7qWo",
        "outputId": "a83883ce-75f7-4e1e-fe47-2a042bbc9181"
      },
      "execution_count": 13,
      "outputs": [
        {
          "output_type": "stream",
          "name": "stdout",
          "text": [
            "ID\n",
            "2017-21441    “Worry is a down payment on a problem you may ...\n",
            "2017-31535    Whatever you decide to do make sure it makes y...\n",
            "2017-21068    @Max_Kellerman  it also helps that the majorit...\n",
            "2017-31436    Accept the challenges so that you can literall...\n",
            "2017-22195    My roommate: it's okay that we can't spell bec...\n",
            "                                    ...                        \n",
            "2018-01993    @BadHombreNPS @SecretaryPerry If this didn't m...\n",
            "2018-01784    Excited to watch #stateoforigin tonight! Come ...\n",
            "2018-04047    Blah blah blah Kyrie, IT, etc. @CJC9BOSS leavi...\n",
            "2018-03041    #ThingsIveLearned The wise #shepherd never tru...\n",
            "2018-03386    I am really flattered and happy to hear those ...\n",
            "Name: Tweet, Length: 7724, dtype: object\n"
          ]
        }
      ]
    },
    {
      "cell_type": "code",
      "source": [
        "import spacy\n",
        "nlp = spacy.load('en_core_web_sm')"
      ],
      "metadata": {
        "id": "U8Yqnn_g8MjX"
      },
      "execution_count": 14,
      "outputs": []
    },
    {
      "cell_type": "code",
      "source": [
        "import CustomPreprocessorSpacy as cp"
      ],
      "metadata": {
        "id": "g46_eYNm8P5i"
      },
      "execution_count": 15,
      "outputs": []
    },
    {
      "cell_type": "code",
      "source": [
        "X_train_len = len(X_train)\n",
        "print(X_train_len)"
      ],
      "metadata": {
        "id": "xfNVbpvH93dS",
        "colab": {
          "base_uri": "https://localhost:8080/"
        },
        "outputId": "d960cc3c-b8c8-4458-e0e0-e52ff277bebb"
      },
      "execution_count": 16,
      "outputs": [
        {
          "output_type": "stream",
          "name": "stdout",
          "text": [
            "7724\n"
          ]
        }
      ]
    },
    {
      "cell_type": "code",
      "source": [
        "prefixes = list(nlp.Defaults.prefixes)\n",
        "prefixes += ['@']\n",
        "prefixes.remove(r'#')\n",
        "prefix_regex = spacy.util.compile_prefix_regex(prefixes)\n",
        "nlp.tokenizer.prefix_search = prefix_regex.search"
      ],
      "metadata": {
        "id": "DJlRJP_cNAOQ"
      },
      "execution_count": 17,
      "outputs": []
    },
    {
      "cell_type": "code",
      "source": [
        "  # import spacy pre-processor from custom module\n",
        "preprocessor = cp.SpacyPreprocessor(model='en_core_web_sm', batch_size=X_train_len, lemmatize=False, lower=False,\n",
        "                                    remove_stop=False, remove_punct=False, remove_email=False,\n",
        "                                    remove_url=False, remove_num=False, stemming=False,\n",
        "                                    add_user_mention_prefix=False, remove_hashtag_prefix=False, basic_clean_only=True)"
      ],
      "metadata": {
        "id": "df-5IkfI8yfS"
      },
      "execution_count": 19,
      "outputs": []
    },
    {
      "cell_type": "code",
      "source": [
        "X_train_cleaned = preprocessor.fit_transform(list(X_train['Tweet']))"
      ],
      "metadata": {
        "id": "YcYg3T_Y-N1U",
        "colab": {
          "base_uri": "https://localhost:8080/"
        },
        "outputId": "61fcbb14-a9d7-4cb8-ab54-0f4344346dd2"
      },
      "execution_count": 20,
      "outputs": [
        {
          "output_type": "stream",
          "name": "stderr",
          "text": [
            "/content/drive/MyDrive/data/custom-functions/CustomPreprocessorSpacy.py:83: MarkupResemblesLocatorWarning: The input looks more like a filename than markup. You may want to open this file and pass the filehandle into Beautiful Soup.\n",
            "  soup = BeautifulSoup(text, \"html.parser\")\n"
          ]
        }
      ]
    },
    {
      "cell_type": "code",
      "source": [
        "X_train_cleaned[:5]"
      ],
      "metadata": {
        "colab": {
          "base_uri": "https://localhost:8080/"
        },
        "id": "Fo0NG0Ha-vxC",
        "outputId": "cf605cf4-8a1c-4685-bada-4692f9c8495b"
      },
      "execution_count": 21,
      "outputs": [
        {
          "output_type": "execute_result",
          "data": {
            "text/plain": [
              "[\"“Worry is a down payment on a problem you may never have'. \\xa0Joyce Meyer.  #motivation #leadership #worry\",\n",
              " 'Whatever you decide to do make sure it makes you #happy.',\n",
              " \"@Max_Kellerman  it also helps that the majority of NFL coaching is inept. Some of Bill O'Brien's play calling was wow, ! #GOPATS\",\n",
              " \"Accept the challenges so that you can literally even feel the exhilaration of victory.' -- George S. Patton 🐶\",\n",
              " \"My roommate: it's okay that we can't spell because we have autocorrect. #terrible #firstworldprobs\"]"
            ]
          },
          "metadata": {},
          "execution_count": 21
        }
      ]
    },
    {
      "cell_type": "code",
      "source": [
        "type(X_train_cleaned)"
      ],
      "metadata": {
        "colab": {
          "base_uri": "https://localhost:8080/"
        },
        "id": "0SzmdFiw_VGA",
        "outputId": "70f01926-ecd4-4472-87ea-0f92e6d112e8"
      },
      "execution_count": 22,
      "outputs": [
        {
          "output_type": "execute_result",
          "data": {
            "text/plain": [
              "list"
            ]
          },
          "metadata": {},
          "execution_count": 22
        }
      ]
    },
    {
      "cell_type": "code",
      "source": [
        "X_train_cleaned[0]"
      ],
      "metadata": {
        "colab": {
          "base_uri": "https://localhost:8080/",
          "height": 35
        },
        "id": "0rFQGiLT_tQs",
        "outputId": "413b0816-98d2-45bc-b8cb-513d5704000f"
      },
      "execution_count": 23,
      "outputs": [
        {
          "output_type": "execute_result",
          "data": {
            "text/plain": [
              "\"“Worry is a down payment on a problem you may never have'. \\xa0Joyce Meyer.  #motivation #leadership #worry\""
            ],
            "application/vnd.google.colaboratory.intrinsic+json": {
              "type": "string"
            }
          },
          "metadata": {},
          "execution_count": 23
        }
      ]
    },
    {
      "cell_type": "code",
      "source": [
        "from sklearn.model_selection import train_test_split\n",
        "X_train, X_valid, y_train, y_valid = train_test_split(X_train_cleaned, y, test_size = 0.3, random_state = 1)"
      ],
      "metadata": {
        "id": "uom-eJe7_iMR"
      },
      "execution_count": 24,
      "outputs": []
    },
    {
      "cell_type": "code",
      "source": [
        "trainset = Dataset.from_dict({\n",
        "    'texts': X_train,\n",
        "    'labels': y_train\n",
        "})\n",
        "\n",
        "validset = Dataset.from_dict({\n",
        "    'texts': X_valid,\n",
        "    'labels': y_valid\n",
        "})"
      ],
      "metadata": {
        "id": "oeIxI9BoulUC"
      },
      "execution_count": 25,
      "outputs": []
    },
    {
      "cell_type": "code",
      "source": [
        "print(y_train.shape), print(y_valid.shape)"
      ],
      "metadata": {
        "colab": {
          "base_uri": "https://localhost:8080/"
        },
        "id": "OwPfozAFPUWz",
        "outputId": "5aaee5be-87a0-45a9-d387-3f82937d8783"
      },
      "execution_count": 26,
      "outputs": [
        {
          "output_type": "stream",
          "name": "stdout",
          "text": [
            "(5406, 11)\n",
            "(2318, 11)\n"
          ]
        },
        {
          "output_type": "execute_result",
          "data": {
            "text/plain": [
              "(None, None)"
            ]
          },
          "metadata": {},
          "execution_count": 26
        }
      ]
    },
    {
      "cell_type": "code",
      "source": [
        "trainset[:5]"
      ],
      "metadata": {
        "id": "TfD7pkazusuI",
        "colab": {
          "base_uri": "https://localhost:8080/"
        },
        "outputId": "4822a7ac-a007-497d-baab-c1573f73fa90"
      },
      "execution_count": 27,
      "outputs": [
        {
          "output_type": "execute_result",
          "data": {
            "text/plain": [
              "{'texts': ['@JuliaHB1 Bloody right #fume',\n",
              "  'You boys dint know the game am I the game... life after death... better chose and know who side you on before my wrath does come upon us😤😤😤',\n",
              "  'Peter is aesthetically pleasing to look at',\n",
              "  'The weather changed from sunny and bright to gloomy just in time to match my afternoon mood. 😒',\n",
              "  \"#TerrorStatePak we r confirm that #navazsharif is post graduate distinction student of university of #terrorism. He can't spare himself.\"],\n",
              " 'labels': [[1, 0, 1, 0, 0, 0, 0, 0, 0, 0, 0],\n",
              "  [1, 1, 1, 0, 0, 0, 0, 1, 0, 0, 0],\n",
              "  [0, 0, 0, 0, 1, 1, 1, 0, 0, 0, 0],\n",
              "  [0, 0, 0, 0, 1, 1, 0, 1, 1, 0, 0],\n",
              "  [0, 0, 0, 1, 0, 0, 0, 0, 0, 0, 0]]}"
            ]
          },
          "metadata": {},
          "execution_count": 27
        }
      ]
    },
    {
      "cell_type": "code",
      "source": [
        "class CustomConfig(PretrainedConfig):\n",
        "  def __init__(self, vocab_size=0, embedding_dim=0, hidden_dim1=0, hidden_dim2=0, num_labels=11, **kwargs):\n",
        "      super().__init__()\n",
        "      self.vocab_size = vocab_size\n",
        "      self.embedding_dim = embedding_dim\n",
        "      self.hidden_dim1 = hidden_dim1\n",
        "      self.hidden_dim2 = hidden_dim2\n",
        "      self.num_labels = num_labels"
      ],
      "metadata": {
        "id": "H8j0QIO6_79M"
      },
      "execution_count": 28,
      "outputs": []
    },
    {
      "cell_type": "code",
      "source": [
        "class CustomMLP(PreTrainedModel):\n",
        "    config_class = CustomConfig\n",
        "\n",
        "    def __init__(self, config):\n",
        "        super().__init__(config)\n",
        "\n",
        "        self.embedding_bag = nn.EmbeddingBag(config.vocab_size, config.embedding_dim)\n",
        "        self.layers = nn.Sequential(\n",
        "            nn.Linear(config.embedding_dim, config.hidden_dim1),\n",
        "            nn.BatchNorm1d(num_features=config.hidden_dim1),\n",
        "            nn.ReLU(),\n",
        "            nn.Dropout(p=0.5),\n",
        "            nn.Linear(config.hidden_dim1, config.hidden_dim2),\n",
        "            nn.BatchNorm1d(num_features=config.hidden_dim2),\n",
        "            nn.ReLU(),\n",
        "            nn.Dropout(p=0.5),\n",
        "            nn.Linear(config.hidden_dim2, config.num_labels)\n",
        "        )\n",
        "\n",
        "    def forward(self, input_ids, offsets, labels=None):\n",
        "        embed_out = self.embedding_bag(input_ids, offsets)\n",
        "        logits = self.layers(embed_out)\n",
        "\n",
        "        loss = None\n",
        "        if labels is not None:\n",
        "            loss_fct = nn.BCEWithLogitsLoss()\n",
        "            loss = loss_fct(logits, labels.float())\n",
        "\n",
        "        return SequenceClassifierOutput(\n",
        "            loss=loss,\n",
        "            logits=logits\n",
        "        )"
      ],
      "metadata": {
        "id": "uXkHsYkAANum"
      },
      "execution_count": 29,
      "outputs": []
    },
    {
      "cell_type": "code",
      "source": [
        "def get_vocab(dataset, min_freq=1):\n",
        "    \"\"\"\n",
        "    Generate a vocabulary from a dataset.\n",
        "\n",
        "    Args:\n",
        "        dataset (Dataset): A Hugging Face Dataset object. The dataset should\n",
        "                           have a key 'texts' that contains the text data.\n",
        "        min_freq (int): The minimum frequency for a token to be included in\n",
        "                        the vocabulary.\n",
        "\n",
        "    Returns:\n",
        "        torchtext.vocab.Vocab: Vocabulary object containing tokens from the\n",
        "                               dataset that meet or exceed the specified\n",
        "                               minimum frequency. It also includes a special\n",
        "                               '<unk>' token for unknown words.\n",
        "    \"\"\"\n",
        "    # Initialize a counter object to hold token frequencies\n",
        "    counter = Counter()\n",
        "\n",
        "    # Update the counter with tokens from each text in the dataset\n",
        "    # Iterating through texts in the dataset\n",
        "    for text in dataset['texts']:  ###### Change from previous function ####\n",
        "        counter.update(str(text).split())\n",
        "\n",
        "    # Create a vocabulary using the counter object\n",
        "    # Tokens that appear fewer times than `min_freq` are excluded\n",
        "    my_vocab = vocab(counter, min_freq=min_freq)\n",
        "\n",
        "    # Insert a '<unk>' token at index 0 to represent unknown words\n",
        "    my_vocab.insert_token('<unk>', 0)\n",
        "\n",
        "    # Set the default index to 0\n",
        "    # This ensures that any unknown word will be mapped to '<unk>'\n",
        "    my_vocab.set_default_index(0)\n",
        "\n",
        "    return my_vocab"
      ],
      "metadata": {
        "id": "a-aPFjTqAOJl"
      },
      "execution_count": 30,
      "outputs": []
    },
    {
      "cell_type": "code",
      "source": [
        "# Creating a function that will be used to get the indices of words from vocab\n",
        "def tokenizer(text, vocab):\n",
        "    \"\"\"Converts text to a list of indices using a vocabulary dictionary\"\"\"\n",
        "    return [vocab[token] for token in str(text).split()]"
      ],
      "metadata": {
        "id": "5XjyMFmRAVy0"
      },
      "execution_count": 31,
      "outputs": []
    },
    {
      "cell_type": "code",
      "source": [
        "def collate_batch(batch, my_vocab):\n",
        "    \"\"\"\n",
        "    Prepares a batch of data by transforming texts into indices based on a vocabulary and\n",
        "    converting labels into a tensor.\n",
        "\n",
        "    Args:\n",
        "        batch (list of dict): A batch of data where each element is a dictionary with keys\n",
        "                              'labels' and 'texts'. 'labels' are the sentiment labels, and\n",
        "                              'texts' are the corresponding texts.\n",
        "        my_vocab (torchtext.vocab.Vocab): A vocabulary object that maps tokens to indices.\n",
        "\n",
        "    Returns:\n",
        "        dict: A dictionary with three keys:\n",
        "              - 'input_ids': a tensor containing concatenated indices of the texts.\n",
        "              - 'offsets': a tensor representing the starting index of each text in 'input_ids'.\n",
        "              - 'labels': a tensor of the labels for each text in the batch.\n",
        "\n",
        "    The function transforms each text into a list of indices based on the provided vocabulary.\n",
        "    It also converts the labels into a tensor. The 'offsets' are computed to keep track of the\n",
        "    start of each text within the 'input_ids' tensor, which is a flattened representation of all text indices.\n",
        "    \"\"\"\n",
        "\n",
        "    # Get labels and texts from batch dict samples\n",
        "    labels = [sample['labels'] for sample in batch]\n",
        "    texts = [sample['texts'] for sample in batch]\n",
        "\n",
        "    # Convert the list of labels into a tensor of dtype int32\n",
        "    labels = torch.tensor(labels, dtype=torch.float64)\n",
        "\n",
        "    # Convert the list of texts into a list of lists; each inner list contains the vocabulary indices for a text\n",
        "    list_of_list_of_indices = [tokenizer(text, my_vocab) for text in texts]\n",
        "\n",
        "    # Concatenate all text indices into a single tensor\n",
        "    input_ids = torch.cat([torch.tensor(i, dtype=torch.int32) for i in list_of_list_of_indices])\n",
        "\n",
        "    # Compute the offsets for each text in the concatenated tensor\n",
        "    offsets = [0] + [len(i) for i in list_of_list_of_indices]\n",
        "    offsets = torch.tensor(offsets[:-1]).cumsum(dim=0)\n",
        "    # print('Labels:',labels.shape)\n",
        "    # print('Inputs:',input_ids.shape)\n",
        "    return {\n",
        "        'input_ids': input_ids,\n",
        "        'offsets': offsets,\n",
        "        'labels': labels\n",
        "    }"
      ],
      "metadata": {
        "id": "OGeEy-ebAXng"
      },
      "execution_count": 32,
      "outputs": []
    },
    {
      "cell_type": "code",
      "source": [
        "emotion_vocab = get_vocab(trainset, min_freq=2)\n",
        "collate_fn = partial(collate_batch, my_vocab=emotion_vocab)\n",
        "print(len(emotion_vocab))"
      ],
      "metadata": {
        "id": "3BEKc2k-As7o",
        "colab": {
          "base_uri": "https://localhost:8080/"
        },
        "outputId": "e8ffddff-3596-4531-a6fa-11591c978ef0"
      },
      "execution_count": 33,
      "outputs": [
        {
          "output_type": "stream",
          "name": "stdout",
          "text": [
            "7036\n"
          ]
        }
      ]
    },
    {
      "cell_type": "code",
      "source": [
        "my_config = CustomConfig(vocab_size=len(emotion_vocab),\n",
        "                         embedding_dim=300,\n",
        "                         hidden_dim1=200,\n",
        "                         hidden_dim2=100,\n",
        "                         num_labels=11)\n"
      ],
      "metadata": {
        "id": "LB5PYES6AZmo"
      },
      "execution_count": 34,
      "outputs": []
    },
    {
      "cell_type": "code",
      "source": [
        "my_config.id2label = {0: 'anger', 1: 'anticipation', 2: 'disgust', 3: 'fear', 4: 'joy', 5: 'love', 6: 'optimism', 7: 'pessimism', 8: 'sadness' , 9: 'surprise', 10: 'trust'}"
      ],
      "metadata": {
        "id": "VFg8bj6RJRXj"
      },
      "execution_count": 35,
      "outputs": []
    },
    {
      "cell_type": "code",
      "source": [
        "my_config.label2id = {v: k for k, v in my_config.id2label .items()}"
      ],
      "metadata": {
        "id": "W6yRg-hnJU-R"
      },
      "execution_count": 36,
      "outputs": []
    },
    {
      "cell_type": "code",
      "source": [
        "my_config"
      ],
      "metadata": {
        "colab": {
          "base_uri": "https://localhost:8080/"
        },
        "id": "2lUMwNX_AwJ1",
        "outputId": "7a0467ec-56bf-4d59-9440-30f8e4534513"
      },
      "execution_count": 37,
      "outputs": [
        {
          "output_type": "execute_result",
          "data": {
            "text/plain": [
              "CustomConfig {\n",
              "  \"embedding_dim\": 300,\n",
              "  \"hidden_dim1\": 200,\n",
              "  \"hidden_dim2\": 100,\n",
              "  \"id2label\": {\n",
              "    \"0\": \"anger\",\n",
              "    \"1\": \"anticipation\",\n",
              "    \"2\": \"disgust\",\n",
              "    \"3\": \"fear\",\n",
              "    \"4\": \"joy\",\n",
              "    \"5\": \"love\",\n",
              "    \"6\": \"optimism\",\n",
              "    \"7\": \"pessimism\",\n",
              "    \"8\": \"sadness\",\n",
              "    \"9\": \"surprise\",\n",
              "    \"10\": \"trust\"\n",
              "  },\n",
              "  \"label2id\": {\n",
              "    \"anger\": 0,\n",
              "    \"anticipation\": 1,\n",
              "    \"disgust\": 2,\n",
              "    \"fear\": 3,\n",
              "    \"joy\": 4,\n",
              "    \"love\": 5,\n",
              "    \"optimism\": 6,\n",
              "    \"pessimism\": 7,\n",
              "    \"sadness\": 8,\n",
              "    \"surprise\": 9,\n",
              "    \"trust\": 10\n",
              "  },\n",
              "  \"transformers_version\": \"4.39.3\",\n",
              "  \"vocab_size\": 7036\n",
              "}"
            ]
          },
          "metadata": {},
          "execution_count": 37
        }
      ]
    },
    {
      "cell_type": "code",
      "source": [
        "model = CustomMLP(config=my_config)"
      ],
      "metadata": {
        "id": "zJxiHYTrAz3V"
      },
      "execution_count": 38,
      "outputs": []
    },
    {
      "cell_type": "code",
      "source": [
        "model"
      ],
      "metadata": {
        "colab": {
          "base_uri": "https://localhost:8080/"
        },
        "id": "0r0EHNY4YTx4",
        "outputId": "1cd20a5e-48e5-459e-aa04-7a3dbdf82b43"
      },
      "execution_count": 39,
      "outputs": [
        {
          "output_type": "execute_result",
          "data": {
            "text/plain": [
              "CustomMLP(\n",
              "  (embedding_bag): EmbeddingBag(7036, 300, mode='mean')\n",
              "  (layers): Sequential(\n",
              "    (0): Linear(in_features=300, out_features=200, bias=True)\n",
              "    (1): BatchNorm1d(200, eps=1e-05, momentum=0.1, affine=True, track_running_stats=True)\n",
              "    (2): ReLU()\n",
              "    (3): Dropout(p=0.5, inplace=False)\n",
              "    (4): Linear(in_features=200, out_features=100, bias=True)\n",
              "    (5): BatchNorm1d(100, eps=1e-05, momentum=0.1, affine=True, track_running_stats=True)\n",
              "    (6): ReLU()\n",
              "    (7): Dropout(p=0.5, inplace=False)\n",
              "    (8): Linear(in_features=100, out_features=11, bias=True)\n",
              "  )\n",
              ")"
            ]
          },
          "metadata": {},
          "execution_count": 39
        }
      ]
    },
    {
      "cell_type": "code",
      "source": [
        "def compute_metrics(eval_pred):\n",
        "    combined_metrics = evaluate.combine([evaluate.load(\"accuracy\"),\n",
        "                                        evaluate.load(\"f1\", average=\"macro\")])\n",
        "\n",
        "    logits, labels = eval_pred\n",
        "    predictions = (logits >= 0).astype(float)\n",
        "    predictions = predictions.reshape(-1)\n",
        "    labels = labels.reshape(-1)\n",
        "    evaluations = combined_metrics.compute(\n",
        "        predictions=predictions, references=labels,)\n",
        "    return evaluations"
      ],
      "metadata": {
        "id": "jzBgbeQwA2Xn"
      },
      "execution_count": 40,
      "outputs": []
    },
    {
      "cell_type": "code",
      "source": [
        "# Configure training parameters\n",
        "training_args = TrainingArguments(\n",
        "\n",
        "    # Training-specific configurations\n",
        "    num_train_epochs=5,\n",
        "    per_device_train_batch_size=128, # Number of samples per training batch\n",
        "    per_device_eval_batch_size=128, # Number of samples per validation batch\n",
        "    weight_decay=0.1, # weight decay (L2 regularization)\n",
        "    learning_rate=0.001, # learning arte\n",
        "    optim='adamw_torch', # optimizer\n",
        "    remove_unused_columns=False, # flag to retain unused columns\n",
        "\n",
        "    # Checkpoint saving and model evaluation settings\n",
        "    output_dir=str(model_folder),  # Directory to save model checkpoints\n",
        "    evaluation_strategy='steps',  # Evaluate model at specified step intervals\n",
        "    eval_steps=50,  # Perform evaluation every 50 training steps\n",
        "    save_strategy=\"steps\",  # Save model checkpoint at specified step intervals\n",
        "    save_steps=50,  # Save a model checkpoint every 50 training steps\n",
        "    load_best_model_at_end=True,  # Reload the best model at the end of training\n",
        "    save_total_limit=2,  # Retain only the best and the most recent model checkpoints\n",
        "    # Use 'accuracy' as the metric to determine the best model\n",
        "    metric_for_best_model=\"accuracy\",\n",
        "    greater_is_better=True,  # A model is 'better' if its accuracy is higher\n",
        "\n",
        "\n",
        "    # Experiment logging configurations\n",
        "    logging_strategy='steps',\n",
        "    logging_steps=50,\n",
        "    report_to='wandb',  # Log metrics and results to Weights & Biases platform\n",
        "    run_name='emotion_hf_trainer',  # Experiment name for Weights & Biases\n",
        ")"
      ],
      "metadata": {
        "id": "ATdfrlN3A7GH"
      },
      "execution_count": 41,
      "outputs": []
    },
    {
      "cell_type": "code",
      "source": [
        "trainer = Trainer(\n",
        "    model=model,\n",
        "    args=training_args,\n",
        "    train_dataset=trainset,\n",
        "    eval_dataset = validset,\n",
        "    data_collator=collate_fn,\n",
        "    compute_metrics=compute_metrics,\n",
        ")\n"
      ],
      "metadata": {
        "colab": {
          "base_uri": "https://localhost:8080/"
        },
        "id": "MIqAow8kA820",
        "outputId": "3623276a-5458-45ca-d305-19e3be568785"
      },
      "execution_count": 42,
      "outputs": [
        {
          "output_type": "stream",
          "name": "stderr",
          "text": [
            "/usr/local/lib/python3.10/dist-packages/accelerate/accelerator.py:432: FutureWarning: Passing the following arguments to `Accelerator` is deprecated and will be removed in version 1.0 of Accelerate: dict_keys(['dispatch_batches', 'split_batches', 'even_batches', 'use_seedable_sampler']). Please pass an `accelerate.DataLoaderConfiguration` instead: \n",
            "dataloader_config = DataLoaderConfiguration(dispatch_batches=None, split_batches=False, even_batches=True, use_seedable_sampler=True)\n",
            "  warnings.warn(\n"
          ]
        }
      ]
    },
    {
      "cell_type": "code",
      "source": [
        "trainer = Trainer(\n",
        "    model=model,\n",
        "    args=training_args,\n",
        "    train_dataset=trainset,\n",
        "    eval_dataset = validset,\n",
        "    data_collator=collate_fn,\n",
        "    compute_metrics=compute_metrics,\n",
        ")"
      ],
      "metadata": {
        "id": "Ooy7aG69BiF0"
      },
      "execution_count": 43,
      "outputs": []
    },
    {
      "cell_type": "code",
      "source": [
        "!wandb login"
      ],
      "metadata": {
        "colab": {
          "base_uri": "https://localhost:8080/"
        },
        "id": "D3TW56S6osCr",
        "outputId": "8fbe8319-c94e-4c54-b96c-3a8563c36eb8"
      },
      "execution_count": 45,
      "outputs": [
        {
          "output_type": "stream",
          "name": "stdout",
          "text": [
            "\u001b[34m\u001b[1mwandb\u001b[0m: Currently logged in as: \u001b[33mdakavyshnavi\u001b[0m (\u001b[33mvyshnavi-utd\u001b[0m). Use \u001b[1m`wandb login --relogin`\u001b[0m to force relogin\n"
          ]
        }
      ]
    },
    {
      "cell_type": "code",
      "source": [
        "# specify the project name where the experiment will be logged\n",
        "%env WANDB_PROJECT = nlp_course_spring_2024-emotion-detection-hf-trainer"
      ],
      "metadata": {
        "colab": {
          "base_uri": "https://localhost:8080/"
        },
        "id": "9wKj6ANnvOdW",
        "outputId": "fb934065-c56c-4560-c7b6-3dceb1b26fed"
      },
      "execution_count": 46,
      "outputs": [
        {
          "output_type": "stream",
          "name": "stdout",
          "text": [
            "env: WANDB_PROJECT=nlp_course_spring_2024-emotion-detection-hf-trainer\n"
          ]
        }
      ]
    },
    {
      "cell_type": "code",
      "source": [
        "trainer.train()"
      ],
      "metadata": {
        "id": "bIki6S5iWRlp",
        "colab": {
          "base_uri": "https://localhost:8080/",
          "height": 403,
          "referenced_widgets": [
            "23839568f59d45c8bc195af852217505",
            "4f86ee5135de4c2baf9da9d09c2191f8",
            "2aeab88f069a414bb332c3d9f9167429",
            "187c305bb9474824a9e96c4674f389fc",
            "91cab63f0861414988aa9c33391c9e12",
            "75be6941e9a844b8afe4e48d80683033",
            "8c9b6492cf1a461e8c1beae864a14161",
            "557409c072934a88b81d255c04636bb5",
            "8cb57acf9485436f911b6bb6e179cf2f",
            "42d8814e993043df95efdd746453733a",
            "5ebbb87570b5425288d711b8c39a3b60",
            "adeb7423e4a74aa38ebb1f171cc9e44e",
            "3bb809b8124c4bbb8f1046fbc2b3e180",
            "afdd0bc571564eacbb647aae6ae53c3f",
            "52e18ecd1aaa4b17b29d1853462ac3ad",
            "0e4f500a9d314e37a6fafd65cb3cd1c4",
            "c5527edbb73c44d89d2175e492fe3d77",
            "ecb244ba4b3f4addb9c783fb586ba7a6",
            "037c715d53834fac828a30e79839d264",
            "4c56647a40354d40a10d13177d77a0bd",
            "c89eb18531f149afa115cee0e4c637b7",
            "88648f46bded443997c25e27a6524c96"
          ]
        },
        "outputId": "81060f67-c566-4431-ecea-3090c0cc331a"
      },
      "execution_count": 47,
      "outputs": [
        {
          "output_type": "stream",
          "name": "stderr",
          "text": [
            "\u001b[34m\u001b[1mwandb\u001b[0m: Currently logged in as: \u001b[33mdakavyshnavi\u001b[0m (\u001b[33mvyshnavi-utd\u001b[0m). Use \u001b[1m`wandb login --relogin`\u001b[0m to force relogin\n"
          ]
        },
        {
          "output_type": "display_data",
          "data": {
            "text/plain": [
              "<IPython.core.display.HTML object>"
            ],
            "text/html": [
              "Tracking run with wandb version 0.16.5"
            ]
          },
          "metadata": {}
        },
        {
          "output_type": "display_data",
          "data": {
            "text/plain": [
              "<IPython.core.display.HTML object>"
            ],
            "text/html": [
              "Run data is saved locally in <code>/content/wandb/run-20240403_181355-p91irq54</code>"
            ]
          },
          "metadata": {}
        },
        {
          "output_type": "display_data",
          "data": {
            "text/plain": [
              "<IPython.core.display.HTML object>"
            ],
            "text/html": [
              "Syncing run <strong><a href='https://wandb.ai/vyshnavi-utd/nlp_course_spring_2024-emotion-detection-hf-trainer/runs/p91irq54/workspace' target=\"_blank\">emotion_hf_trainer</a></strong> to <a href='https://wandb.ai/vyshnavi-utd/nlp_course_spring_2024-emotion-detection-hf-trainer' target=\"_blank\">Weights & Biases</a> (<a href='https://wandb.me/run' target=\"_blank\">docs</a>)<br/>"
            ]
          },
          "metadata": {}
        },
        {
          "output_type": "display_data",
          "data": {
            "text/plain": [
              "<IPython.core.display.HTML object>"
            ],
            "text/html": [
              " View project at <a href='https://wandb.ai/vyshnavi-utd/nlp_course_spring_2024-emotion-detection-hf-trainer' target=\"_blank\">https://wandb.ai/vyshnavi-utd/nlp_course_spring_2024-emotion-detection-hf-trainer</a>"
            ]
          },
          "metadata": {}
        },
        {
          "output_type": "display_data",
          "data": {
            "text/plain": [
              "<IPython.core.display.HTML object>"
            ],
            "text/html": [
              " View run at <a href='https://wandb.ai/vyshnavi-utd/nlp_course_spring_2024-emotion-detection-hf-trainer/runs/p91irq54/workspace' target=\"_blank\">https://wandb.ai/vyshnavi-utd/nlp_course_spring_2024-emotion-detection-hf-trainer/runs/p91irq54/workspace</a>"
            ]
          },
          "metadata": {}
        },
        {
          "output_type": "display_data",
          "data": {
            "text/plain": [
              "<IPython.core.display.HTML object>"
            ],
            "text/html": [
              "\n",
              "    <div>\n",
              "      \n",
              "      <progress value='215' max='215' style='width:300px; height:20px; vertical-align: middle;'></progress>\n",
              "      [215/215 00:18, Epoch 5/5]\n",
              "    </div>\n",
              "    <table border=\"1\" class=\"dataframe\">\n",
              "  <thead>\n",
              " <tr style=\"text-align: left;\">\n",
              "      <th>Step</th>\n",
              "      <th>Training Loss</th>\n",
              "      <th>Validation Loss</th>\n",
              "      <th>Accuracy</th>\n",
              "      <th>F1</th>\n",
              "    </tr>\n",
              "  </thead>\n",
              "  <tbody>\n",
              "    <tr>\n",
              "      <td>50</td>\n",
              "      <td>0.587200</td>\n",
              "      <td>0.542030</td>\n",
              "      <td>0.785591</td>\n",
              "      <td>0.036312</td>\n",
              "    </tr>\n",
              "    <tr>\n",
              "      <td>100</td>\n",
              "      <td>0.493500</td>\n",
              "      <td>0.491591</td>\n",
              "      <td>0.789081</td>\n",
              "      <td>0.051499</td>\n",
              "    </tr>\n",
              "    <tr>\n",
              "      <td>150</td>\n",
              "      <td>0.473300</td>\n",
              "      <td>0.479186</td>\n",
              "      <td>0.789670</td>\n",
              "      <td>0.090863</td>\n",
              "    </tr>\n",
              "    <tr>\n",
              "      <td>200</td>\n",
              "      <td>0.463700</td>\n",
              "      <td>0.476273</td>\n",
              "      <td>0.790062</td>\n",
              "      <td>0.127181</td>\n",
              "    </tr>\n",
              "  </tbody>\n",
              "</table><p>"
            ]
          },
          "metadata": {}
        },
        {
          "output_type": "display_data",
          "data": {
            "text/plain": [
              "Downloading builder script:   0%|          | 0.00/4.20k [00:00<?, ?B/s]"
            ],
            "application/vnd.jupyter.widget-view+json": {
              "version_major": 2,
              "version_minor": 0,
              "model_id": "23839568f59d45c8bc195af852217505"
            }
          },
          "metadata": {}
        },
        {
          "output_type": "display_data",
          "data": {
            "text/plain": [
              "Downloading builder script:   0%|          | 0.00/6.77k [00:00<?, ?B/s]"
            ],
            "application/vnd.jupyter.widget-view+json": {
              "version_major": 2,
              "version_minor": 0,
              "model_id": "adeb7423e4a74aa38ebb1f171cc9e44e"
            }
          },
          "metadata": {}
        },
        {
          "output_type": "execute_result",
          "data": {
            "text/plain": [
              "TrainOutput(global_step=215, training_loss=0.5016522496245628, metrics={'train_runtime': 23.7752, 'train_samples_per_second': 1136.901, 'train_steps_per_second': 9.043, 'total_flos': 5691331309950.0, 'train_loss': 0.5016522496245628, 'epoch': 5.0})"
            ]
          },
          "metadata": {},
          "execution_count": 47
        }
      ]
    },
    {
      "cell_type": "code",
      "source": [
        "trainer.evaluate()"
      ],
      "metadata": {
        "id": "HNDYTWNJOmA_",
        "colab": {
          "base_uri": "https://localhost:8080/",
          "height": 158
        },
        "outputId": "71c34f15-3053-4441-912c-27327dfa738c"
      },
      "execution_count": 48,
      "outputs": [
        {
          "output_type": "display_data",
          "data": {
            "text/plain": [
              "<IPython.core.display.HTML object>"
            ],
            "text/html": [
              "\n",
              "    <div>\n",
              "      \n",
              "      <progress value='19' max='19' style='width:300px; height:20px; vertical-align: middle;'></progress>\n",
              "      [19/19 00:00]\n",
              "    </div>\n",
              "    "
            ]
          },
          "metadata": {}
        },
        {
          "output_type": "execute_result",
          "data": {
            "text/plain": [
              "{'eval_loss': 0.4762727618217468,\n",
              " 'eval_accuracy': 0.7900619656443643,\n",
              " 'eval_f1': 0.12718082504483938,\n",
              " 'eval_runtime': 3.7227,\n",
              " 'eval_samples_per_second': 622.665,\n",
              " 'eval_steps_per_second': 5.104,\n",
              " 'epoch': 5.0}"
            ]
          },
          "metadata": {},
          "execution_count": 48
        }
      ]
    },
    {
      "cell_type": "code",
      "source": [
        "valid_output = trainer.predict(validset)"
      ],
      "metadata": {
        "colab": {
          "base_uri": "https://localhost:8080/",
          "height": 17
        },
        "id": "v7haJvtNgdto",
        "outputId": "9240e988-ba26-436d-8758-9431fbd3e908"
      },
      "execution_count": 49,
      "outputs": [
        {
          "output_type": "display_data",
          "data": {
            "text/plain": [
              "<IPython.core.display.HTML object>"
            ],
            "text/html": []
          },
          "metadata": {}
        }
      ]
    },
    {
      "cell_type": "code",
      "source": [
        "valid_output._fields"
      ],
      "metadata": {
        "colab": {
          "base_uri": "https://localhost:8080/"
        },
        "id": "hfNJZzVzgpZN",
        "outputId": "4367db4f-728d-49f9-9913-96e1236e056b"
      },
      "execution_count": 50,
      "outputs": [
        {
          "output_type": "execute_result",
          "data": {
            "text/plain": [
              "('predictions', 'label_ids', 'metrics')"
            ]
          },
          "metadata": {},
          "execution_count": 50
        }
      ]
    },
    {
      "cell_type": "code",
      "source": [
        "valid_output.predictions"
      ],
      "metadata": {
        "colab": {
          "base_uri": "https://localhost:8080/"
        },
        "id": "Yaw7_e-Lg4EP",
        "outputId": "98c77638-2ef5-49b8-a02f-f0bf59944e68"
      },
      "execution_count": 51,
      "outputs": [
        {
          "output_type": "execute_result",
          "data": {
            "text/plain": [
              "array([[-0.6834613 , -1.1398375 , -0.5072583 , ..., -0.93758214,\n",
              "        -1.7102088 , -2.2173314 ],\n",
              "       [-0.20302682, -1.6795335 , -0.26163396, ..., -0.89466506,\n",
              "        -2.277391  , -2.2901163 ],\n",
              "       [-0.29971167, -1.0215217 , -0.18628983, ..., -0.8811201 ,\n",
              "        -1.6641756 , -1.7471274 ],\n",
              "       ...,\n",
              "       [-0.4935178 , -0.9766959 , -0.86531854, ..., -0.684955  ,\n",
              "        -1.7964075 , -2.08717   ],\n",
              "       [-0.3097919 , -1.8157611 , -0.11740586, ..., -0.40608302,\n",
              "        -1.8524956 , -1.9234427 ],\n",
              "       [-0.2719638 , -1.1834182 , -0.44707105, ..., -0.75554043,\n",
              "        -1.8009778 , -1.8279911 ]], dtype=float32)"
            ]
          },
          "metadata": {},
          "execution_count": 51
        }
      ]
    },
    {
      "cell_type": "code",
      "source": [
        "valid_preds = (valid_output.predictions >= 0).astype(float)\n",
        "valid_labels = np.array(valid_output.label_ids)"
      ],
      "metadata": {
        "id": "xTJY1EQlgtGC"
      },
      "execution_count": 52,
      "outputs": []
    },
    {
      "cell_type": "code",
      "source": [],
      "metadata": {
        "id": "VujL0XtJhe8Y"
      },
      "execution_count": null,
      "outputs": []
    }
  ]
}